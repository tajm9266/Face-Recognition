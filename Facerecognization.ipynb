{
 "cells": [
  {
   "cell_type": "code",
   "execution_count": 11,
   "metadata": {},
   "outputs": [],
   "source": [
    "import cv2\n",
    "import numpy as np\n",
    "import os"
   ]
  },
  {
   "cell_type": "code",
   "execution_count": 12,
   "metadata": {},
   "outputs": [],
   "source": [
    "def dist(x1,x2):\n",
    "    return np.sqrt(sum((x1-x2)**2))"
   ]
  },
  {
   "cell_type": "code",
   "execution_count": 13,
   "metadata": {},
   "outputs": [],
   "source": [
    "#implement KNN\n",
    "def KNN(train,test,k=5):\n",
    "    m=train.shape[0]\n",
    "    vals=[]\n",
    "    for i in range(m):\n",
    "        ix=train[i,:-1]\n",
    "        iy=train[i,-1]\n",
    "        d=dist(test,ix)\n",
    "        vals.append([d,iy])\n",
    "        \n",
    "    vals=sorted(vals,key=lambda x:x[0])[:k]\n",
    "    #vals=vals[:k]\n",
    "    vals=np.array(vals)[:,-1]\n",
    "    vals=np.unique(vals,return_counts=True)\n",
    "    print(vals)\n",
    "    index=vals[1].argmax()\n",
    "    predict=vals[0][index]\n",
    "    #print(vals)\n",
    "    return predict"
   ]
  },
  {
   "cell_type": "code",
   "execution_count": 14,
   "metadata": {},
   "outputs": [],
   "source": [
    "cap=cv2.VideoCapture(0)\n",
    "face_cascade=cv2.CascadeClassifier(\"haarcascade_frontalface_default.xml\")\n",
    "dataset_path='./data/'\n",
    "face_data=[]\n",
    "labels=[]\n",
    "class_id=0\n",
    "names={}"
   ]
  },
  {
   "cell_type": "code",
   "execution_count": 15,
   "metadata": {},
   "outputs": [],
   "source": [
    "#load files and store files into face_data and create corresponds labels\n",
    "for fx in os.listdir(dataset_path):\n",
    "    if fx.endswith('.npy'):\n",
    "        dataitem=np.load(dataset_path+fx)\n",
    "        face_data.append(dataitem)\n",
    "        names[class_id]=fx[:-4]\n",
    "        target=class_id*np.ones((dataitem.shape[0],))\n",
    "        class_id=class_id+1\n",
    "        labels.append(target)"
   ]
  },
  {
   "cell_type": "code",
   "execution_count": 16,
   "metadata": {},
   "outputs": [],
   "source": [
    "#concate face_data that is list of list into a single matrix\n",
    "trainX=np.concatenate(face_data,axis=0)\n",
    "#concate labels that is list of list into a single matrix that have single column\n",
    "trainY=np.concatenate(labels,axis=0).reshape((-1,1))"
   ]
  },
  {
   "cell_type": "code",
   "execution_count": 17,
   "metadata": {},
   "outputs": [
    {
     "name": "stdout",
     "output_type": "stream",
     "text": [
      "(109, 30000)\n",
      "(109, 1)\n"
     ]
    }
   ],
   "source": [
    "print(trainX.shape)\n",
    "print(trainY.shape)"
   ]
  },
  {
   "cell_type": "code",
   "execution_count": 18,
   "metadata": {},
   "outputs": [],
   "source": [
    "#concatenate the trainX and trainY into a single matrix\n",
    "training_data=np.concatenate((trainX,trainY),axis=1)"
   ]
  },
  {
   "cell_type": "code",
   "execution_count": 19,
   "metadata": {},
   "outputs": [
    {
     "name": "stdout",
     "output_type": "stream",
     "text": [
      "(array([1., 3.]), array([4, 1], dtype=int64))\n",
      "(array([3.]), array([5], dtype=int64))\n",
      "(array([3.]), array([5], dtype=int64))\n",
      "(array([3.]), array([5], dtype=int64))\n",
      "(array([3.]), array([5], dtype=int64))\n",
      "(array([3.]), array([5], dtype=int64))\n",
      "(array([3.]), array([5], dtype=int64))\n",
      "(array([3.]), array([5], dtype=int64))\n",
      "(array([3.]), array([5], dtype=int64))\n",
      "(array([3.]), array([5], dtype=int64))\n",
      "(array([3.]), array([5], dtype=int64))\n",
      "(array([3.]), array([5], dtype=int64))\n",
      "(array([3.]), array([5], dtype=int64))\n",
      "(array([3.]), array([5], dtype=int64))\n",
      "(array([3.]), array([5], dtype=int64))\n",
      "(array([3.]), array([5], dtype=int64))\n",
      "(array([3.]), array([5], dtype=int64))\n",
      "(array([3.]), array([5], dtype=int64))\n",
      "(array([3.]), array([5], dtype=int64))\n",
      "(array([2., 3.]), array([1, 4], dtype=int64))\n",
      "(array([3.]), array([5], dtype=int64))\n",
      "(array([3.]), array([5], dtype=int64))\n",
      "(array([3.]), array([5], dtype=int64))\n",
      "(array([0.]), array([5], dtype=int64))\n",
      "(array([0.]), array([5], dtype=int64))\n",
      "(array([0.]), array([5], dtype=int64))\n",
      "(array([0.]), array([5], dtype=int64))\n",
      "(array([0., 3.]), array([3, 2], dtype=int64))\n",
      "(array([0., 3.]), array([4, 1], dtype=int64))\n",
      "(array([0., 2., 3.]), array([2, 1, 2], dtype=int64))\n",
      "(array([0., 3.]), array([3, 2], dtype=int64))\n",
      "(array([0., 3.]), array([4, 1], dtype=int64))\n",
      "(array([0., 3.]), array([4, 1], dtype=int64))\n",
      "(array([0.]), array([5], dtype=int64))\n",
      "(array([0.]), array([5], dtype=int64))\n",
      "(array([0., 3.]), array([3, 2], dtype=int64))\n",
      "(array([3.]), array([5], dtype=int64))\n",
      "(array([3.]), array([5], dtype=int64))\n",
      "(array([3.]), array([5], dtype=int64))\n",
      "(array([3.]), array([5], dtype=int64))\n",
      "(array([0., 3.]), array([1, 4], dtype=int64))\n",
      "(array([3.]), array([5], dtype=int64))\n",
      "(array([3.]), array([5], dtype=int64))\n",
      "(array([3.]), array([5], dtype=int64))\n",
      "(array([3.]), array([5], dtype=int64))\n",
      "(array([0., 3.]), array([1, 4], dtype=int64))\n",
      "(array([2., 3.]), array([1, 4], dtype=int64))\n"
     ]
    }
   ],
   "source": [
    "#Now generate the testing data\n",
    "while True:\n",
    "    ret,frame=cap.read()\n",
    "    if ret==False:\n",
    "        continue\n",
    "    faces=face_cascade.detectMultiScale(frame,1.3,5)\n",
    "    for (x,y,w,h) in faces:\n",
    "        face_section=frame[y-20:y+h+20,x-20:x+w+20]\n",
    "        face_section=cv2.resize(face_section,(100,100))\n",
    "        #now predict the result on testing data\n",
    "        out=KNN(training_data,face_section.flatten())\n",
    "        pred_name=names[int(out)]\n",
    "        cv2.putText(frame,pred_name,(x,y-20),cv2.FONT_HERSHEY_SIMPLEX,1,(255,0,0),2,cv2.LINE_AA)\n",
    "        cv2.rectangle(frame,(x,y),(x+w,y+h),(0,255,255),2)\n",
    "    cv2.imshow(\"faces\",frame)\n",
    "    key=cv2.waitKey(1)&0xFF\n",
    "    if key==ord('q'):\n",
    "        break"
   ]
  },
  {
   "cell_type": "code",
   "execution_count": 20,
   "metadata": {},
   "outputs": [],
   "source": [
    "cap.release()\n",
    "cv2.destroyAllWindows()"
   ]
  },
  {
   "cell_type": "code",
   "execution_count": null,
   "metadata": {},
   "outputs": [],
   "source": []
  }
 ],
 "metadata": {
  "kernelspec": {
   "display_name": "Python 3",
   "language": "python",
   "name": "python3"
  },
  "language_info": {
   "codemirror_mode": {
    "name": "ipython",
    "version": 3
   },
   "file_extension": ".py",
   "mimetype": "text/x-python",
   "name": "python",
   "nbconvert_exporter": "python",
   "pygments_lexer": "ipython3",
   "version": "3.7.4"
  }
 },
 "nbformat": 4,
 "nbformat_minor": 2
}
